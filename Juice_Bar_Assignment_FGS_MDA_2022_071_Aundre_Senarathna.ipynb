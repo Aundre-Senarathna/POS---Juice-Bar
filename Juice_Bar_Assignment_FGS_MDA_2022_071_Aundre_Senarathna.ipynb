{
  "cells": [
    {
      "cell_type": "markdown",
      "metadata": {
        "id": "v-qhtBMuHQK7"
      },
      "source": [
        "# **Juice Bar Assignment**\n",
        "\n",
        "\n",
        "*   Student Name: Aundre Reshan Senarathna\n",
        "*   Student Number: FGS/MDA/2022/071\n",
        "*   Course: Master of Data Analytics (MDA)\n",
        "*   Module: Programming for Data Science\n",
        "*   Assignment Name.: Juice Bar Assignment"
      ]
    },
    {
      "cell_type": "markdown",
      "metadata": {
        "id": "UDy5l4tuGuw_"
      },
      "source": [
        "####**Simple transaction processing system for a juice bar**\n",
        "\n",
        "This is a simple transaction processing system for a juice bar, that is capable of generating a price list, issuing a bill for each transaction, checking available stock and generating a report of total sales by bill/invoice number.\n",
        "Steps followed:\n",
        "1.\tMounting and providing access to the google drive\n",
        "2.\tImporting the necessary libraries\n",
        "3.\tCreating 2 data frames with CSV files using “Pandas”, one for inventory and price list, and the other for sales data\n",
        "4.\tCreating functions required for the program to run/function:\n",
        "  1.\tCreating a function that would display the initial options (main menu)\n",
        "  2.\tCreating a function for the user to select a juice for purchase with its quantity\n",
        "  3.\tA function that will Amend the stock of the available inventory list, based on the users’ inputs\n",
        "  4.\tA function that will generate a number with 4 digits that is not duplicated, that will be used as the invoice number.\n",
        "  5.\tA function that will update the sales records based on each bill/invoice issued/sold.\n",
        "  6.\tCreating a function that will generate a bill in the form of a “.txt” file, as well as printing the output of it in the console\n",
        "  7.\tA function to generate a report to view available stock\n",
        "  8.\tA function to check the price list of each item\n",
        "  9.\tA function to generate a sales report based on bill no\n",
        "5.\tFinally, all of the functions will be constructed/added in a manner that enables the program to function.\n"
      ]
    },
    {
      "cell_type": "markdown",
      "metadata": {
        "id": "WB6luxiiE6My"
      },
      "source": [
        "**Step 01:**\n",
        "Mounting and providing access to google drive\n"
      ]
    },
    {
      "cell_type": "code",
      "execution_count": null,
      "metadata": {
        "id": "mThjZBWPO8ex"
      },
      "outputs": [],
      "source": [
        "#Installing PyDrive and importing the necessary libraries to mount google drive\n",
        "!pip install -U -q PyDrive\n",
        "from pydrive.auth import GoogleAuth\n",
        "from pydrive.drive import GoogleDrive\n",
        "from google.colab import auth\n",
        "from oauth2client.client import GoogleCredentials\n",
        "\n",
        "#Authenticating and creating a PyDrive client\n",
        "auth.authenticate_user()\n",
        "gauth = GoogleAuth()\n",
        "gauth.credentials = GoogleCredentials.get_application_default()\n",
        "drive = GoogleDrive(gauth)\n",
        "\n",
        "#Using the necessary links that enables to download and read the csv files created in the drive\n",
        "fileDownloaded = drive.CreateFile({\"id\":\"1vqg5TG_kd83lqu0ldeqVKbvs7PI0hsT9\"})\n",
        "fileDownloaded2 = drive.CreateFile({\"id\":\"1ko5MYZ-TDWgxmd9HFFK9lmHS46AbqF2J\"})\n",
        "\n",
        "fileDownloaded.GetContentFile(\"Inventory and Price List.csv\")\n",
        "fileDownloaded2.GetContentFile(\"Sales Data.csv\")\n"
      ]
    },
    {
      "cell_type": "markdown",
      "metadata": {
        "id": "IfLdG7FdHjjw"
      },
      "source": [
        "**Step 02:**\n",
        "\n",
        "Importing the necessary libraries"
      ]
    },
    {
      "cell_type": "code",
      "execution_count": null,
      "metadata": {
        "id": "TeNoWQYaH1Js"
      },
      "outputs": [],
      "source": [
        "import csv\n",
        "import random\n",
        "import pandas as pd"
      ]
    },
    {
      "cell_type": "markdown",
      "metadata": {
        "id": "s6xFMSD4IiBC"
      },
      "source": [
        "**Step 03:**\n",
        "\n",
        "Creating 2 data frames with CSV files using “Pandas”, one for inventory and price list, and the other for sales data"
      ]
    },
    {
      "cell_type": "code",
      "execution_count": null,
      "metadata": {
        "id": "pVrga7SFH5pb"
      },
      "outputs": [],
      "source": [
        "df = pd.read_csv(\"Inventory and Price List.csv\")\n",
        "df2 = pd.read_csv(\"Sales Data.csv\")"
      ]
    },
    {
      "cell_type": "markdown",
      "metadata": {
        "id": "Flaw25KZI-yr"
      },
      "source": [
        "**Step 04:**\n",
        "\n",
        "Creating functions required for the program to run/function:\n",
        "\n",
        "**4.1**: Creating a function that would display the initial options (main menu)\n",
        "\n",
        "This function which is called “MainMenu”, will be requesting for the user’s name that will be stored in a variable named “cust_name”, then it will display the initial options requesting the user to pick one of them, the user’s choice will be stored under “initial_num”, which will be at index 1, this(the output/return at index 1) will be used in functions to follow\n"
      ]
    },
    {
      "cell_type": "code",
      "execution_count": null,
      "metadata": {
        "id": "NNi1Ddr0Ixja"
      },
      "outputs": [],
      "source": [
        "def MainMenu():\n",
        "  cust_name = str(input(\"Enter your name: \"))\n",
        "  print(\"Welcome!, to Aundre's Juice Bar!\")\n",
        "  print(\"======================================\")\n",
        "  print(\"________________MENU__________________\")\n",
        "  print(\"(1). Purchase Juices\")\n",
        "  print(\"(2). Available Stock\")\n",
        "  print(\"(3). Price List\")\n",
        "  print(\"(4). Generate Sales Report\")\n",
        "  print(\"(5). Exit\")\n",
        "  print(\"======================================\")\n",
        "  initial_num = int(input(\"Enter a number, on what you wish to do:\"))\n",
        "  return cust_name, initial_num"
      ]
    },
    {
      "cell_type": "markdown",
      "metadata": {
        "id": "8DOuld9cLXah"
      },
      "source": [
        "**4.2**: Creating a function for the user to select a juice for purchase with its quantity\n",
        "\n",
        "This function (PurchaseJuices) will ask the user to pick a juice out of the 3 options and record the user’s choice under “juice_num”. Next it will request for the quantity and record it under “qty_needed”, It will then use these 2 variables to check the available quantity of the specific type of juice based on “juice_num”, against the “qty_needed”, if the requested quantity is greater than the available quantity it will ask the user to enter a quantity within the available quantity range, if the quantity requested (“qty_needed”) is less than the available quantity, it will proceed to the next step and record the outputs of “juice_num” (at index 0), “qty_needed” (index 1).\n"
      ]
    },
    {
      "cell_type": "code",
      "execution_count": null,
      "metadata": {
        "id": "-jQwSiNkLUhD"
      },
      "outputs": [],
      "source": [
        "def PurchaseJuices():\n",
        "\n",
        "  print(\"======================================\")\n",
        "  print(\"_____________JUICE MENU_______________\")\n",
        "  print(\"(1). Orange Juice           LKR: 100.00\")\n",
        "  print(\"(2). Mango Juice            LKR: 150.00\")\n",
        "  print(\"(3). Mixed Fruit Juice      LKR: 200.00\")\n",
        "  print(\"______________________________________\")\n",
        "  print(\"(4). Main Menu\")\n",
        "  print(\"(5). Exit\")\n",
        "  print(\"======================================\")\n",
        "  juice_num = int(input(\"If you wish to purchase a juice enter a number between (1-3), else, select (4) to go back to main menu or (5) to exit: \"))\n",
        "  qty_needed = int(input(\"Enter the quatity you wish to purchase: \"))\n",
        "  if juice_num == 1 or juice_num == 2 or juice_num == 3: #Checking whether a juice is selected, if selected the below loop will apply\n",
        "    qty_check = True\n",
        "    avail_qty = 0\n",
        "\n",
        "    while qty_check:\n",
        "      avail_qty = 0\n",
        "\n",
        "#Checking the orange juice quantity against the available stock under df (data frame created for the csv file that maintains both price and available stock)\n",
        "      if juice_num == 1:\n",
        "        avail_qty = df.iloc[0, 2]\n",
        "        if qty_needed < avail_qty:\n",
        "          qty_check = False\n",
        "        else:\n",
        "          qty_needed = int(input(\"Sorry, we are out of stock, available stock is: \" + str(avail_qty) + \" therefore, enter a quatity within the available range: \"))\n",
        "\n",
        "#Checking the mango juice quantity against the available stock under df (data frame created for the csv file that maintains both price and available stock)\n",
        "      if juice_num == 2:\n",
        "        avail_qty = df.iloc[1, 2]\n",
        "        if qty_needed < avail_qty:\n",
        "          qty_check = False\n",
        "        else:\n",
        "          qty_needed = int(input(\"Sorry, we are out of stock, available stock is: \" + str(avail_qty) + \" therefore, enter a quatity within the available range: \"))\n",
        "\n",
        "#Checking the mixed fruit juice quantity against the available stock under df (data frame created for the csv file that maintains both price and available stock)\n",
        "      if juice_num == 3:\n",
        "        avail_qty = df.iloc[2, 2]\n",
        "        if qty_needed < avail_qty:\n",
        "          qty_check = False\n",
        "        else:\n",
        "          qty_needed = int(input(\"Sorry, we are out of stock, available stock is: \" + str(avail_qty) + \" therefore, enter a quatity within the available range: \"))\n",
        "\n",
        "  return juice_num, qty_needed"
      ]
    },
    {
      "cell_type": "markdown",
      "metadata": {
        "id": "PwlaPSH-PuRg"
      },
      "source": [
        "**4.3**: A function that will Amend the stock of the available inventory list, based on the users’ inputs\n",
        "\n",
        "This function named “AmendStock”, will be taking in the outputs of the function “PurchaseJuices” as it’s arguments, where;\n",
        "\n",
        "*  item_number = output at index 0 of “PurchaseJuices”\n",
        "*  qty_needed = output at index 1 of “PurchaseJuices”\n",
        "\n",
        "Next, based on the type of juice and quantity, it will adjust stock of \"df\" (available stock – “qty needed”, based on “item_number)\n"
      ]
    },
    {
      "cell_type": "code",
      "execution_count": null,
      "metadata": {
        "id": "uciQLG3lSTBo"
      },
      "outputs": [],
      "source": [
        "def AmendStock(item_number,qty_needed):\n",
        "  if item_number == 1:\n",
        "    df.at[0, \"Available Qty\"] = df.iloc[0, 2] - qty_needed\n",
        "    df.to_csv(\"Inventory and Price List.csv\")\n",
        "  if item_number == 2:\n",
        "    df.at[1, \"Available Qty\"] = df.iloc[1, 2] - qty_needed\n",
        "    df.to_csv(\"Inventory and Price List.csv\")\n",
        "  if item_number == 3:\n",
        "    df.at[2, \"Available Qty\"] = df.iloc[2, 2] - qty_needed\n",
        "    df.to_csv(\"Inventory and Price List.csv\")"
      ]
    },
    {
      "cell_type": "markdown",
      "metadata": {
        "id": "bGyLWeSGTX8i"
      },
      "source": [
        "**4.4**: A function (RandomNum) that will generate a number with 4 digits that is not duplicated, that will be used as the invoice/bill number"
      ]
    },
    {
      "cell_type": "code",
      "execution_count": null,
      "metadata": {
        "id": "zgBMJUcBSw-q"
      },
      "outputs": [],
      "source": [
        "def RandomNum():\n",
        "  lst = range(0,1000)\n",
        "  return random.choices(lst, k=1)"
      ]
    },
    {
      "cell_type": "markdown",
      "metadata": {
        "id": "bR3bVqhYYVAn"
      },
      "source": [
        "**4.5**: A function that will update the sales records based on each bill/invoice issued/sold\n",
        "\n",
        "This function named “SalesReportUpdate”, will be taking outputs from the functions “PurchaseJuices” and “RandomNum” as it’s parameters, where;\n",
        "*  item_number = output at index 0 of “PurchaseJuices”\n",
        "*  qty_needed = output at index 1 of “PurchaseJuices”\n",
        "*  bill_no = output of “RandomNum”\n",
        "\n",
        "It will then use these parameters to identify the name of the item by referring to “df” (Inventory and price list) based on “item_number” and store it under “item_name”\n",
        "\n",
        "It will identify the price of the item by referring to “df” (Inventory and price list) based on “item_number” and store it under “item_price”\n",
        "\n",
        "It will also calculate total sales by, “qty_needed” * “item_price” and store it under “tot_sales”\n",
        "\n",
        "It will also, create and append a list with, “bill_no”, “item_number”, “item_name”, “qty_needed”, “item_price”, “tot_sales”.\n",
        "\n",
        "Finally, it will use the data of the list, to write into “df2” (the CSV file that maintain’s sales records), while returning the list as it’s out-put\n"
      ]
    },
    {
      "cell_type": "code",
      "execution_count": null,
      "metadata": {
        "id": "KIEJ0xdoTl-S"
      },
      "outputs": [],
      "source": [
        "def SalesReportUpdate(item_number,qty_needed,bill_no):\n",
        "  update_lst = []\n",
        "\n",
        "  if item_number == 1:\n",
        "    item_name = df.iloc[0, 1]\n",
        "    item_price = df.iloc[0, 3]\n",
        "  if item_number == 2:\n",
        "    item_name = df.iloc[1, 1]\n",
        "    item_price = df.iloc[1, 3]\n",
        "  if item_number == 3:\n",
        "    item_name = df.iloc[2, 1]\n",
        "    item_price = df.iloc[2, 3]\n",
        "\n",
        "  update_lst.append(bill_no)\n",
        "  update_lst.append(item_number)\n",
        "  update_lst.append(item_name)\n",
        "  update_lst.append(qty_needed)\n",
        "  update_lst.append(item_price)\n",
        "\n",
        "  tot_sales = qty_needed * item_price\n",
        "  update_lst.append(tot_sales)\n",
        "\n",
        "  df2.loc[len(df2)] = update_lst\n",
        "  df2.to_csv(\"Sales Data.csv\")\n",
        "  return update_lst"
      ]
    },
    {
      "cell_type": "markdown",
      "metadata": {
        "id": "AldMz67SaiQb"
      },
      "source": [
        "**4.6**: Creating a function that will generate a bill in the form of a “.txt” file, as well as printing the output of it in the console\n",
        "\n",
        "This function (BillCreator), will be taking in, outputs of the functions “SalesReportUpdate” and “RandomNum”, as its parameters, that will be positioned in specific areas to be displayed in the bill/invoice.\n",
        "*  bill_no = output of “RandomNum”\n",
        "*  item_name = output at index 2 of “SalesReportUpdate”\n",
        "*  qty_needed = output at index 3 of “SalesReportUpdate”\n",
        "*  item_price = output at index 4 of “SalesReportUpdate”\n",
        "*  total_sales = output at index 5 of “SalesReportUpdate”\n"
      ]
    },
    {
      "cell_type": "code",
      "execution_count": null,
      "metadata": {
        "id": "FlIFC1X0Yx1o"
      },
      "outputs": [],
      "source": [
        "def BillCreator(bill_no,item_name,qty_needed,item_price,tot_sales):\n",
        "  file = open(str(bill_no) + \".txt\", \"w\")\n",
        "  file.write(\"=============================================================\")\n",
        "  file.write(\"\\nAundre's Juice Bar\\t\\t\\t\\tINVOICE\")\n",
        "  file.write(\"\\n\\nInvoice: \" + str(bill_no))\n",
        "  file.write(\"\\n=============================================================\")\n",
        "  file.write(\"\\nITEM NAME\\tQUANTITY\\tUNIT PRICE\\tTOTAL\")\n",
        "  file.write(\"\\n-------------------------------------------------------------\")\n",
        "  file.write(\"\\n\" + str(item_name) + \"\\t\" + str(qty_needed) + \"\\t\\t\" + str(item_price) + \"\\t\\t\" + str(tot_sales))\n",
        "  file.write(\"\\n\\n-------------------------------------------------------------\")\n",
        "  file.write(\"\\n\\t\\t\\t Your payable amount is: \" + str(tot_sales))\n",
        "  file.write(\"\\n\\n\\t\\tThank you for shopping with us.\\n\\t\\t\\tSee you again!\")\n",
        "  file.write(\"\\n=============================================================\")\n",
        "  file.close()\n",
        "  print(\"=============================================================\")\n",
        "  print(\"\\nAundre's Juice Bar\\t\\t\\t\\tINVOICE\")\n",
        "  print(\"\\n\\nInvoice: \" + str(bill_no))\n",
        "  print(\"\\n=============================================================\")\n",
        "  print(\"\\nITEM NAME\\tQUANTITY\\tUNIT PRICE\\tTOTAL\")\n",
        "  print(\"\\n-------------------------------------------------------------\")\n",
        "  print(\"\\n\" + str(item_name) + \"\\t\" + str(qty_needed) + \"\\t\\t\" + str(item_price) + \"\\t\\t\" + str(tot_sales))\n",
        "  print(\"\\n\\n-------------------------------------------------------------\")\n",
        "  print(\"\\n\\t\\t\\t Your payable amount is: \" + str(tot_sales))\n",
        "  print(\"\\n\\n\\t\\tThank you for shopping with us.\\n\\t\\t\\tSee you again!\")\n",
        "  print(\"\\n=============================================================\")\n",
        "\n",
        "  return file"
      ]
    },
    {
      "cell_type": "markdown",
      "metadata": {
        "id": "yHSt3T5xcSCw"
      },
      "source": [
        "**4.7**: A function (AvailableStock) to generate a report to view available stock\n",
        "\n",
        "This is done by printing specific columns of the CSV file named “Inventory and Price List” (this is the CSV file that’s been used to update available stock and refer to item prices)\n"
      ]
    },
    {
      "cell_type": "code",
      "execution_count": null,
      "metadata": {
        "id": "DF2rFMRecOmF"
      },
      "outputs": [],
      "source": [
        "def AvailableStock():\n",
        "  print(pd.read_csv(\"Inventory and Price List.csv\", usecols=[1,2,3]))"
      ]
    },
    {
      "cell_type": "markdown",
      "metadata": {
        "id": "p3lqg5nHeOxU"
      },
      "source": [
        "**4.8**: A function (PriceList) to check the price list of each item\n",
        "\n",
        "This is done by printing specific columns of the CSV file named “Inventory and Price List” (this is the CSV file that’s been used to update available stock and refer to item prices)\n"
      ]
    },
    {
      "cell_type": "code",
      "execution_count": null,
      "metadata": {
        "id": "-2WjcQ5LeJ5c"
      },
      "outputs": [],
      "source": [
        "def PriceList():\n",
        "  print(pd.read_csv(\"Inventory and Price List.csv\", usecols=[1,2,4]))"
      ]
    },
    {
      "cell_type": "markdown",
      "metadata": {
        "id": "utotcVr4eWeZ"
      },
      "source": [
        "**4.9**: A function (SalesReport) to generate a sales report based on bill no\n",
        "\n",
        "This is done by printing the CSV file named “Sales Data” (this is the CSV file that’s been used to record sales data)\n"
      ]
    },
    {
      "cell_type": "code",
      "execution_count": null,
      "metadata": {
        "id": "E14uaRXseVHz"
      },
      "outputs": [],
      "source": [
        "def SalesReport():\n",
        "  print(pd.read_csv(\"Sales Data.csv\", usecols=[1,2,3,4,5,6]))"
      ]
    },
    {
      "cell_type": "markdown",
      "metadata": {
        "id": "zMmx7L85efmn"
      },
      "source": [
        "**Step 05:**\n",
        "\n",
        "Here, all of the functions defined above are added in a manner that enables the program to function.\n"
      ]
    },
    {
      "cell_type": "code",
      "execution_count": null,
      "metadata": {
        "colab": {
          "background_save": true,
          "base_uri": "https://localhost:8080/"
        },
        "id": "Rf6jXKRofCG9",
        "outputId": "cd32f45d-4c42-4e66-a0c0-aee48c297d1b"
      },
      "outputs": [
        {
          "name": "stdout",
          "output_type": "stream",
          "text": [
            "Welcome!, to Aundre's Juice Bar!\n",
            "======================================\n",
            "________________MENU__________________\n",
            "(1). Purchase Juices\n",
            "(2). Available Stock\n",
            "(3). Price List\n",
            "(4). Generate Sales Report\n",
            "(5). Exit\n",
            "======================================\n",
            "======================================\n",
            "_____________JUICE MENU_______________\n",
            "(1). Orange Juice           LKR: 100.00\n",
            "(2). Mango Juice            LKR: 150.00\n",
            "(3). Mixed Fruit Juice      LKR: 200.00\n",
            "______________________________________\n",
            "(4). Main Menu\n",
            "(5). Exit\n",
            "======================================\n",
            "=============================================================\n",
            "\n",
            "Aundre's Juice Bar\t\t\t\tINVOICE\n",
            "\n",
            "\n",
            "Invoice: 134\n",
            "\n",
            "=============================================================\n",
            "\n",
            "ITEM NAME\tQUANTITY\tUNIT PRICE\tTOTAL\n",
            "\n",
            "-------------------------------------------------------------\n",
            "\n",
            "Mango Juice\t2\t\t150\t\t300\n",
            "\n",
            "\n",
            "-------------------------------------------------------------\n",
            "\n",
            "\t\t\t Your payable amount is: 300\n",
            "\n",
            "\n",
            "\t\tThank you for shopping with us.\n",
            "\t\t\tSee you again!\n",
            "\n",
            "=============================================================\n",
            "Welcome!, to Aundre's Juice Bar!\n",
            "======================================\n",
            "________________MENU__________________\n",
            "(1). Purchase Juices\n",
            "(2). Available Stock\n",
            "(3). Price List\n",
            "(4). Generate Sales Report\n",
            "(5). Exit\n",
            "======================================\n",
            "   Bill No.   Item No.     Item Name  Qty Sold  Price per Item  Sales\n",
            "0        134          2  Mango Juice         2             150    300\n"
          ]
        }
      ],
      "source": [
        "play = True\n",
        "while play:\n",
        "  main_menu = MainMenu()\n",
        "  if main_menu[1] == 5:\n",
        "    play = False\n",
        "  if main_menu[1] == 2:\n",
        "    available_stock = AvailableStock()\n",
        "    a_s_exit = str(input(\"Enter (Y) to go back to the main menu, or enter any other key to exit: \"))\n",
        "    if a_s_exit == \"y\":\n",
        "      play = True\n",
        "    else:\n",
        "      play = False\n",
        "  if main_menu[1] == 3:\n",
        "    price_list = PriceList()\n",
        "    p_l_exit = str(input(\"Enter (Y) to go back to the main menu, or enter any other key to exit: \"))\n",
        "    if p_l_exit == \"y\":\n",
        "      play = True\n",
        "    else:\n",
        "      play = False\n",
        "  if main_menu[1] == 4:\n",
        "    sales_data = SalesReport()\n",
        "    s_d_exit = str(input(\"Enter (Y) to go back to the main menu, or enter any other key to exit: \"))\n",
        "    if s_d_exit == \"y\":\n",
        "      play = True\n",
        "    else:\n",
        "      play = False\n",
        "  if main_menu[1] == 1:\n",
        "    purchase = PurchaseJuices()\n",
        "    if purchase[0] == 4:\n",
        "      play = True\n",
        "    if purchase[0] == 5:\n",
        "      play = False\n",
        "    if purchase[0] == 1 or purchase[0] == 2 or purchase[0] == 3:\n",
        "      amend_stock = AmendStock(purchase[0],purchase[1])\n",
        "      bill_no = RandomNum()\n",
        "      sales_report_update = SalesReportUpdate(purchase[0], purchase[1], bill_no[0])\n",
        "      bill_print = BillCreator(bill_no[0], sales_report_update[2], sales_report_update[3], sales_report_update[4], sales_report_update[5])\n",
        "      purchase_exit = str(input(\"Do you want to purchase again, or view reports (Y/N): \"))\n",
        "      if purchase_exit.upper() == \"Y\":\n",
        "        play = True\n",
        "      else:\n",
        "        play = False"
      ]
    },
    {
      "cell_type": "code",
      "execution_count": null,
      "metadata": {
        "id": "Re73WVX7fUkJ"
      },
      "outputs": [],
      "source": []
    }
  ],
  "metadata": {
    "colab": {
      "provenance": []
    },
    "kernelspec": {
      "display_name": "Python 3",
      "name": "python3"
    },
    "language_info": {
      "name": "python"
    }
  },
  "nbformat": 4,
  "nbformat_minor": 0
}